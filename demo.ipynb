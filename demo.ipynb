{
 "cells": [
  {
   "cell_type": "markdown",
   "id": "6402ab29",
   "metadata": {},
   "source": [
    "#### Importing libraries to be used"
   ]
  },
  {
   "cell_type": "code",
   "execution_count": 30,
   "id": "4e355cd3",
   "metadata": {},
   "outputs": [],
   "source": [
    "# import requests\n",
    "import csv\n",
    "import json\n",
    "from selenium import webdriver\n",
    "from selenium.webdriver.chrome.service import Service\n",
    "from selenium.webdriver.chrome.options import Options \n",
    "from selenium.webdriver.common.by import By\n",
    "from selenium.webdriver.support.ui import WebDriverWait #as WDW\n",
    "from selenium.webdriver.support import expected_conditions as EC\n",
    "from webdriver_manager.chrome import ChromeDriverManager\n",
    "from bs4 import BeautifulSoup"
   ]
  },
  {
   "cell_type": "markdown",
   "id": "1692f860",
   "metadata": {},
   "source": [
    "#### Step 1 - Configuration and Data Fetching\n",
    "#### Setup Selenium and WebDriver"
   ]
  },
  {
   "cell_type": "code",
   "execution_count": null,
   "id": "5b466d61",
   "metadata": {},
   "outputs": [
    {
     "name": "stdout",
     "output_type": "stream",
     "text": [
      "Setting up the webdriver.....\n",
      "done setting up..\n"
     ]
    }
   ],
   "source": [
    "# Setup selenium and webdriver\n",
    "print(\"Setting up the webdriver.....\")\n",
    "chrome_opt = Options()\n",
    "chrome_opt.add_argument('--headless') # To make the data scraping in the background..\n",
    "chrome_opt.add_argument('--disable-gpu')\n",
    "chrome_opt.add_argument(\n",
    "    \"user-agent=Mozilla/5.0 (Windows NT 10.0; Win64; x64) AppleWebKit/537.36 (KHTML, like Gecko) Chrome/131.0.6778.265 Safari/537.36\"\n",
    "# Install the chrome driver (This is a one time thing)\n",
    "print(\"Installing Chrome WD\")\n",
    "service = Service(ChromeDriverManager().install())\n",
    "print(\"Final Setup\")\n",
    "driver = webdriver.Chrome(service=service, options=chrome_option)\n",
    "print(\"Done\"))\n",
    "print(\"done setting up..\")"
   ]
  },
  {
   "cell_type": "code",
   "execution_count": 27,
   "id": "50da5830",
   "metadata": {},
   "outputs": [
    {
     "name": "stdout",
     "output_type": "stream",
     "text": [
      "Installing Chrome WD\n",
      "Final Setup\n",
      "Done\n"
     ]
    }
   ],
   "source": [
    "# Install the chrome driver (This is a one time thing)\n",
    "print(\"Installing Chrome WD\")\n",
    "service = Service(ChromeDriverManager().install())\n",
    "print(\"Final Setup\")\n",
    "driver = webdriver.Chrome(service = service, options = chrome_opt)\n",
    "print(\"Done\")"
   ]
  },
  {
   "cell_type": "markdown",
   "id": "ebf79c77",
   "metadata": {},
   "source": [
    "##### Make connection and get URL content"
   ]
  },
  {
   "cell_type": "code",
   "execution_count": 28,
   "id": "47e149d0",
   "metadata": {},
   "outputs": [
    {
     "name": "stdout",
     "output_type": "stream",
     "text": [
      "Visiting webpage: https://www.glasses.com/gl-us/eyeglasses\n"
     ]
    }
   ],
   "source": [
    "target_url = \"https://www.glasses.com/gl-us/eyeglasses\"\n",
    "#response = requests.get(target_url)\n",
    "#content = response.content\n",
    "print(f\"Visiting webpage: {target_url}\")\n",
    "driver.get(target_url)"
   ]
  },
  {
   "cell_type": "code",
   "execution_count": 32,
   "id": "63793e78",
   "metadata": {},
   "outputs": [
    {
     "name": "stdout",
     "output_type": "stream",
     "text": [
      "Waiting for product tiles to load\n",
      "Done...Proceed to parse the data\n"
     ]
    }
   ],
   "source": [
    "# Further instruction: wait for JS to load the files\n",
    "try:\n",
    "    print(\"Waiting for product tiles to load\")\n",
    "    WebDriverWait(driver, 15).until(\n",
    "        EC.presence_of_element_located((By.CLASS_NAME, 'catalog-page'))\n",
    "    )\n",
    "    print(\"Done...Proceed to parse the data\")\n",
    "except (TimeoutError, Exception) as e:\n",
    "    print(f\"Error waiting for {target_url}: {e}\")\n",
    "    driver.quit()\n",
    "    print(\"Closed\")"
   ]
  },
  {
   "cell_type": "code",
   "execution_count": null,
   "id": "82604e4f",
   "metadata": {},
   "outputs": [],
   "source": [
    "# Step 2 - Data Parsing and Extraction\n",
    "# Get page source and parse using BeautifulSoup\n",
    "content = driver.page_source\n",
    "page = BeautifulSoup(content, 'html.parser')"
   ]
  },
  {
   "cell_type": "code",
   "execution_count": null,
   "id": "06bc2981",
   "metadata": {},
   "outputs": [],
   "source": [
    "from pprint import pprint\n",
    "\n",
    "pprint(page)\n",
    "\n",
    "# We got the result below due to the limitation of REQUEST to \n",
    "# overcome antiscraping measures...."
   ]
  },
  {
   "cell_type": "code",
   "execution_count": null,
   "id": "653e6f85",
   "metadata": {},
   "outputs": [],
   "source": []
  }
 ],
 "metadata": {
  "kernelspec": {
   "display_name": "eyewearvenv (3.13.7)",
   "language": "python",
   "name": "python3"
  },
  "language_info": {
   "codemirror_mode": {
    "name": "ipython",
    "version": 3
   },
   "file_extension": ".py",
   "mimetype": "text/x-python",
   "name": "python",
   "nbconvert_exporter": "python",
   "pygments_lexer": "ipython3",
   "version": "3.13.7"
  }
 },
 "nbformat": 4,
 "nbformat_minor": 5
}
